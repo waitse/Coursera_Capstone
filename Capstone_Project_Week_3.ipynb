{
  "nbformat": 4,
  "nbformat_minor": 0,
  "metadata": {
    "colab": {
      "name": "Capstone_Project_Week_3.ipynb",
      "provenance": [],
      "collapsed_sections": []
    },
    "kernelspec": {
      "name": "python3",
      "display_name": "Python 3"
    }
  },
  "cells": [
    {
      "cell_type": "markdown",
      "metadata": {
        "id": "-Faw2dJ4-R5n"
      },
      "source": [
        "<h1> Part 1"
      ]
    },
    {
      "cell_type": "code",
      "metadata": {
        "id": "i5Fg1_U8we2Q"
      },
      "source": [
        "# Capstone Project Week 3 Assignment\r\n",
        "# 1. For the Toronto neighborhood data, scrape the Wikipedia page\r\n",
        "# 2. wrangle the data\r\n",
        "# 3. clean it, and then read it into a pandas  dataframe so that it is in a structured format like the New York dataset\r\n",
        "# 4. Explore\r\n",
        "# 5. Segment\r\n",
        "# 6. Cluster the neighborhoods in the city of Toronto based on the postalcode and borough information.\r\n",
        "# 7. Use the embedded link option in the formatting  tools of the Response field to include the link"
      ],
      "execution_count": 55,
      "outputs": []
    },
    {
      "cell_type": "markdown",
      "metadata": {
        "id": "zKka_F4e66Tv"
      },
      "source": [
        "Use the Notebook to build the code to scrape the following Wikipedia page, \r\n",
        "\r\n",
        "https://en.wikipedia.org/wiki/List_of_postal_codes_of_Canada:_M\r\n",
        "\r\n",
        "The dataframe will consist of three columns: PostalCode, Borough, and Neighborhood "
      ]
    },
    {
      "cell_type": "code",
      "metadata": {
        "id": "elcWy-iqyI7x",
        "colab": {
          "base_uri": "https://localhost:8080/",
          "height": 204
        },
        "outputId": "3f6c9c2e-1e24-445f-a014-0b2ea628bf26"
      },
      "source": [
        "import pandas as pd\r\n",
        "df_ca = pd.read_html('https://en.wikipedia.org/wiki/List_of_postal_codes_of_Canada:_M')[0]\r\n",
        "df_ca.head()"
      ],
      "execution_count": 61,
      "outputs": [
        {
          "output_type": "execute_result",
          "data": {
            "text/html": [
              "<div>\n",
              "<style scoped>\n",
              "    .dataframe tbody tr th:only-of-type {\n",
              "        vertical-align: middle;\n",
              "    }\n",
              "\n",
              "    .dataframe tbody tr th {\n",
              "        vertical-align: top;\n",
              "    }\n",
              "\n",
              "    .dataframe thead th {\n",
              "        text-align: right;\n",
              "    }\n",
              "</style>\n",
              "<table border=\"1\" class=\"dataframe\">\n",
              "  <thead>\n",
              "    <tr style=\"text-align: right;\">\n",
              "      <th></th>\n",
              "      <th>Postal Code</th>\n",
              "      <th>Borough</th>\n",
              "      <th>Neighbourhood</th>\n",
              "    </tr>\n",
              "  </thead>\n",
              "  <tbody>\n",
              "    <tr>\n",
              "      <th>0</th>\n",
              "      <td>M1A</td>\n",
              "      <td>Not assigned</td>\n",
              "      <td>Not assigned</td>\n",
              "    </tr>\n",
              "    <tr>\n",
              "      <th>1</th>\n",
              "      <td>M2A</td>\n",
              "      <td>Not assigned</td>\n",
              "      <td>Not assigned</td>\n",
              "    </tr>\n",
              "    <tr>\n",
              "      <th>2</th>\n",
              "      <td>M3A</td>\n",
              "      <td>North York</td>\n",
              "      <td>Parkwoods</td>\n",
              "    </tr>\n",
              "    <tr>\n",
              "      <th>3</th>\n",
              "      <td>M4A</td>\n",
              "      <td>North York</td>\n",
              "      <td>Victoria Village</td>\n",
              "    </tr>\n",
              "    <tr>\n",
              "      <th>4</th>\n",
              "      <td>M5A</td>\n",
              "      <td>Downtown Toronto</td>\n",
              "      <td>Regent Park, Harbourfront</td>\n",
              "    </tr>\n",
              "  </tbody>\n",
              "</table>\n",
              "</div>"
            ],
            "text/plain": [
              "  Postal Code           Borough              Neighbourhood\n",
              "0         M1A      Not assigned               Not assigned\n",
              "1         M2A      Not assigned               Not assigned\n",
              "2         M3A        North York                  Parkwoods\n",
              "3         M4A        North York           Victoria Village\n",
              "4         M5A  Downtown Toronto  Regent Park, Harbourfront"
            ]
          },
          "metadata": {
            "tags": []
          },
          "execution_count": 61
        }
      ]
    },
    {
      "cell_type": "markdown",
      "metadata": {
        "id": "WFlFEi-X6qMn"
      },
      "source": [
        "Only process the cells that have an assigned borough. Ignore cells with a borough that is Not assigned."
      ]
    },
    {
      "cell_type": "code",
      "metadata": {
        "id": "jTKkzIKv6xF2"
      },
      "source": [
        "df_ca=df_ca[df_ca['Borough']!='Not assigned'][:].reset_index()"
      ],
      "execution_count": 57,
      "outputs": []
    },
    {
      "cell_type": "markdown",
      "metadata": {
        "id": "7dgNsE2y6chX"
      },
      "source": [
        "More than one neighborhood can exist in one postal code area"
      ]
    },
    {
      "cell_type": "code",
      "metadata": {
        "id": "j5jVlFP56f5P"
      },
      "source": [
        "df_ca=df_ca.groupby(['Postal Code','Borough'])['Neighbourhood'].apply(lambda x: ','.join(x)).reset_index()"
      ],
      "execution_count": 58,
      "outputs": []
    },
    {
      "cell_type": "markdown",
      "metadata": {
        "id": "h3pXRSdz6Jd_"
      },
      "source": [
        "If a cell has a borough but a Not assigned  neighborhood, then the neighborhood will be the same as the borough.\r\n",
        "\r\n"
      ]
    },
    {
      "cell_type": "code",
      "metadata": {
        "id": "n0m5pP7g6RKh"
      },
      "source": [
        "df_ca[df_ca['Neighbourhood']=='Not assigned']['Neighbourhood']=df_ca[df_ca['Neighbourhood']=='Not assigned']['Borough']"
      ],
      "execution_count": 59,
      "outputs": []
    },
    {
      "cell_type": "markdown",
      "metadata": {
        "id": "MrJr0Hrk-Kmf"
      },
      "source": [
        "In the last cell of your notebook, use the .shape method to print the number of rows of your dataframe."
      ]
    },
    {
      "cell_type": "code",
      "metadata": {
        "colab": {
          "base_uri": "https://localhost:8080/"
        },
        "id": "W8L2zdac7i4o",
        "outputId": "86864b53-8d93-4993-e57c-76ccaf7f7d4d"
      },
      "source": [
        "\r\n",
        "df_ca.shape"
      ],
      "execution_count": 60,
      "outputs": [
        {
          "output_type": "execute_result",
          "data": {
            "text/plain": [
              "(103, 3)"
            ]
          },
          "metadata": {
            "tags": []
          },
          "execution_count": 60
        }
      ]
    },
    {
      "cell_type": "markdown",
      "metadata": {
        "id": "K9Gc545--gpP"
      },
      "source": [
        "<h1> Part 2"
      ]
    },
    {
      "cell_type": "code",
      "metadata": {
        "id": "kzyHjDRO-inq"
      },
      "source": [
        ""
      ],
      "execution_count": null,
      "outputs": []
    }
  ]
}